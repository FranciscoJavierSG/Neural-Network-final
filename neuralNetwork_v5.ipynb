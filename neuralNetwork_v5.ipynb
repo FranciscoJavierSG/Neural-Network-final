{
 "cells": [
  {
   "cell_type": "markdown",
   "metadata": {},
   "source": [
    "# Preprocesamiento"
   ]
  },
  {
   "cell_type": "markdown",
   "metadata": {},
   "source": [
    "Se importan las librerías a utilizar"
   ]
  },
  {
   "cell_type": "code",
   "execution_count": null,
   "metadata": {},
   "outputs": [],
   "source": [
    "import pandas as pd\n",
    "import tensorflow as tf\n",
    "import numpy as np\n",
    "from tensorflow import keras\n",
    "from keras import layers\n",
    "from sklearn.model_selection import train_test_split\n",
    "from sklearn.preprocessing import StandardScaler, LabelEncoder\n",
    "from sklearn import metrics\n",
    "from sklearn.metrics import r2_score"
   ]
  },
  {
   "cell_type": "markdown",
   "metadata": {},
   "source": [
    "Se configura la GPU"
   ]
  },
  {
   "cell_type": "code",
   "execution_count": null,
   "metadata": {},
   "outputs": [],
   "source": [
    "# Lista de GPUs físicas disponibles\n",
    "gpus = tf.config.experimental.list_physical_devices('GPU')\n",
    "\n",
    "if gpus:\n",
    "    try:\n",
    "        # Configurar una GPU virtual con 6.8 GB de memoria\n",
    "        tf.config.experimental.set_virtual_device_configuration(\n",
    "            gpus[0],\n",
    "            [tf.config.experimental.VirtualDeviceConfiguration(memory_limit=6800)])  # 6.8 GB en megabytes\n",
    "\n",
    "        # Verificar si la configuración se realizó correctamente\n",
    "        logical_gpus = tf.config.experimental.list_logical_devices('GPU')\n",
    "        print(len(gpus), \"GPU física(s),\", len(logical_gpus), \"GPU(s) lógica(s)\")\n",
    "\n",
    "    except RuntimeError as e:\n",
    "        print(e)"
   ]
  },
  {
   "cell_type": "markdown",
   "metadata": {},
   "source": [
    "Se crea el dataframe"
   ]
  },
  {
   "cell_type": "code",
   "execution_count": null,
   "metadata": {},
   "outputs": [],
   "source": [
    "# Carga tus datos desde un archivo CSV (ajusta la ruta según la ubicación de tus datos)\n",
    "data = pd.read_csv('..\\Semana 17\\datos_clusterizados.csv', dtype={'rut': str})\n",
    "data"
   ]
  },
  {
   "cell_type": "markdown",
   "metadata": {},
   "source": [
    "Se borran las columnas que no serán utilizadas"
   ]
  },
  {
   "cell_type": "code",
   "execution_count": null,
   "metadata": {},
   "outputs": [],
   "source": [
    "data.drop('rut',axis=1,inplace=True)\n",
    "data.drop('ano',axis=1,inplace=True)\n",
    "data"
   ]
  },
  {
   "cell_type": "markdown",
   "metadata": {},
   "source": [
    "Se codifican las variables categóricas"
   ]
  },
  {
   "cell_type": "code",
   "execution_count": null,
   "metadata": {},
   "outputs": [],
   "source": [
    "le_rangoEdad = LabelEncoder()\n",
    "le_plan = LabelEncoder()\n",
    "le_fidelizacion = LabelEncoder()"
   ]
  },
  {
   "cell_type": "code",
   "execution_count": null,
   "metadata": {},
   "outputs": [],
   "source": [
    "rangoEdad_encoded = le_rangoEdad.fit_transform(data['rangoEdad'])\n",
    "plan_encoded = le_plan.fit_transform(data['plan'])\n",
    "fidelizacion_encoded = le_fidelizacion.fit_transform(data['fidelizacion'])\n",
    "cluster = data['cluster']\n",
    "\n",
    "encoded_df = data.drop(['rangoEdad','plan','fidelizacion','cluster'], axis=1)\n",
    "encoded_df.insert(0, column='rangoEdad_encoded', value=rangoEdad_encoded)\n",
    "encoded_df.insert(1, column='plan_encoded', value=plan_encoded)\n",
    "encoded_df.insert(2, column='fidelizacion_encoded', value=fidelizacion_encoded)\n",
    "encoded_df.insert(3, column='cluster', value=cluster)\n",
    "\n",
    "encoded_df"
   ]
  },
  {
   "cell_type": "markdown",
   "metadata": {},
   "source": [
    "Se definen las variables a utilizar para entrenar (x) y las variables esperadas como predicción (y)"
   ]
  },
  {
   "cell_type": "code",
   "execution_count": null,
   "metadata": {},
   "outputs": [],
   "source": [
    "features = encoded_df.drop(['visitasHospital_2022', 'visitasAmbulatorio_2022', 'visitasDiagnostico_2022', 'visitasDental_2022'], axis=1)\n",
    "labels = encoded_df[['visitasHospital_2022', 'visitasAmbulatorio_2022', 'visitasDiagnostico_2022', 'visitasDental_2022']]"
   ]
  },
  {
   "cell_type": "markdown",
   "metadata": {},
   "source": [
    "Se dividen los datos en sets de entrenamiento y prueba"
   ]
  },
  {
   "cell_type": "code",
   "execution_count": null,
   "metadata": {},
   "outputs": [],
   "source": [
    "X_train, X_test, y_train, y_test = train_test_split(features, labels, test_size=0.2, random_state=42)"
   ]
  },
  {
   "cell_type": "markdown",
   "metadata": {},
   "source": [
    "Se escala la data"
   ]
  },
  {
   "cell_type": "code",
   "execution_count": null,
   "metadata": {},
   "outputs": [],
   "source": [
    "scaler = StandardScaler()\n",
    "X_train_scaled = scaler.fit_transform(X_train)\n",
    "X_test_scaled = scaler.transform(X_test)"
   ]
  },
  {
   "cell_type": "markdown",
   "metadata": {},
   "source": [
    "# Red neuronal"
   ]
  },
  {
   "cell_type": "markdown",
   "metadata": {},
   "source": [
    "Se crea el modelo de la red neuronal"
   ]
  },
  {
   "cell_type": "code",
   "execution_count": null,
   "metadata": {},
   "outputs": [],
   "source": [
    "# Define el modelo de red neuronal\n",
    "model = keras.Sequential([\n",
    "    keras.layers.Dense(128, activation='relu', input_shape=(X_train_scaled.shape[1],)),\n",
    "    keras.layers.Dense(64, activation='relu'),\n",
    "    keras.layers.Dense(32, activation='relu'),\n",
    "    keras.layers.Dense(4, activation='softmax')  # 4 salidas para predecir 'visitasHospital_2022', 'visitasAmbulatorio_2022', 'visitasDiagnostico_2022', 'visitasDental_2022' \n",
    "])"
   ]
  },
  {
   "cell_type": "markdown",
   "metadata": {},
   "source": [
    "Se muestra un resumen del modelo creado anteriormente"
   ]
  },
  {
   "cell_type": "code",
   "execution_count": null,
   "metadata": {},
   "outputs": [],
   "source": [
    "model.summary()"
   ]
  },
  {
   "cell_type": "markdown",
   "metadata": {},
   "source": [
    "Se compila la red neuronal"
   ]
  },
  {
   "cell_type": "code",
   "execution_count": null,
   "metadata": {},
   "outputs": [],
   "source": [
    "model.compile(optimizer='adam', loss='mean_squared_error', metrics=['accuracy']) "
   ]
  },
  {
   "cell_type": "markdown",
   "metadata": {},
   "source": [
    "Se entrena la red neuronal"
   ]
  },
  {
   "cell_type": "code",
   "execution_count": null,
   "metadata": {},
   "outputs": [],
   "source": [
    "model.fit(X_train_scaled, y_train, epochs=50, batch_size=10000, validation_data=(X_test_scaled, y_test))"
   ]
  },
  {
   "cell_type": "markdown",
   "metadata": {},
   "source": [
    "Evaluación del modelo en los datos de prueba del 2022"
   ]
  },
  {
   "cell_type": "code",
   "execution_count": null,
   "metadata": {},
   "outputs": [],
   "source": [
    "loss = model.evaluate(X_test_scaled, y_test)\n",
    "print(f'Pérdida en datos de prueba del 2022: {loss}')"
   ]
  },
  {
   "cell_type": "markdown",
   "metadata": {},
   "source": [
    "Predicciones en los datos de prueba (2022)"
   ]
  },
  {
   "cell_type": "code",
   "execution_count": null,
   "metadata": {},
   "outputs": [],
   "source": [
    "predictions = model.predict(X_test_scaled)\n",
    "predictions"
   ]
  },
  {
   "cell_type": "code",
   "execution_count": null,
   "metadata": {},
   "outputs": [],
   "source": [
    "MSE = np.sqrt(metrics.mean_squared_error(y_test,predictions))\n",
    "R2 = r2_score(y_test,predictions)\n",
    "print('MSE: ',MSE)\n",
    "print('R2_Score: ',R2)"
   ]
  },
  {
   "cell_type": "markdown",
   "metadata": {},
   "source": [
    "# Post procesamiento"
   ]
  },
  {
   "cell_type": "markdown",
   "metadata": {},
   "source": [
    "Crea un nuevo objeto StandardScaler solo para las 4 columnas de predicciones, para poder invertir el escalamiento de la predicción"
   ]
  },
  {
   "cell_type": "code",
   "execution_count": null,
   "metadata": {},
   "outputs": [],
   "source": [
    "scaler_for_predictions = StandardScaler()\n",
    "scaler_for_predictions.fit(data[['visitasHospital_2022', 'visitasAmbulatorio_2022', 'visitasDiagnostico_2022', 'visitasDental_2022']])"
   ]
  },
  {
   "cell_type": "markdown",
   "metadata": {},
   "source": [
    "Se revierte el escalado de las predicciones"
   ]
  },
  {
   "cell_type": "code",
   "execution_count": null,
   "metadata": {},
   "outputs": [],
   "source": [
    "predictions_original_scale = scaler_for_predictions.inverse_transform(predictions)\n",
    "predictions_original_scale"
   ]
  },
  {
   "cell_type": "markdown",
   "metadata": {},
   "source": [
    "Se crea un dataframe para poder ver la predicción de mejor manera"
   ]
  },
  {
   "cell_type": "code",
   "execution_count": null,
   "metadata": {},
   "outputs": [],
   "source": [
    "pred_df = pd.DataFrame(predictions_original_scale,columns=['%_visHosp2022', '%_visAmb2022', '%_visDiag2022', '%_visDent2022'])\n",
    "pred_df"
   ]
  },
  {
   "cell_type": "code",
   "execution_count": null,
   "metadata": {},
   "outputs": [],
   "source": [
    "final_data = X_test\n",
    "final_data.reset_index(drop=True,inplace=True)\n",
    "\n",
    "inverse_rangoEdad = le_rangoEdad.inverse_transform(final_data['rangoEdad_encoded'])\n",
    "final_data.insert(0, column='rangoEdad', value=inverse_rangoEdad)\n",
    "final_data.drop('rangoEdad_encoded',axis=1,inplace=True)\n",
    "\n",
    "inverse_plan = le_plan.inverse_transform(final_data['plan_encoded'])\n",
    "final_data.insert(1, column='plan', value=inverse_plan)\n",
    "final_data.drop('plan_encoded',axis=1,inplace=True)\n",
    "\n",
    "inverse_fidelizacion = le_fidelizacion.inverse_transform(final_data['fidelizacion_encoded'])\n",
    "final_data.insert(2, column='fidelizacion', value=inverse_fidelizacion)\n",
    "final_data.drop('fidelizacion_encoded',axis=1,inplace=True)\n",
    "\n",
    "final_df = pd.concat([final_data, pred_df],axis=1)\n",
    "final_df.dropna(inplace=True)\n",
    "final_df.reset_index()\n",
    "final_df"
   ]
  },
  {
   "cell_type": "code",
   "execution_count": null,
   "metadata": {},
   "outputs": [],
   "source": [
    "final_df"
   ]
  },
  {
   "cell_type": "code",
   "execution_count": null,
   "metadata": {},
   "outputs": [],
   "source": [
    "print(\"Probabilidad máxima de visitas de hospital en el 2022: \", final_df['%_visHosp2022'].max())\n",
    "print(\"Probabilidad máxima de visitas de ambulatorio en el 2022: \", final_df['%_visAmb2022'].max())\n",
    "print(\"Probabilidad máxima de visitas de diagnóstico en el 2022: \", final_df['%_visDiag2022'].max())\n",
    "print(\"Probabilidad máxima de visitas de dental en el 2022: \", final_df['%_visDent2022'].max())"
   ]
  },
  {
   "cell_type": "code",
   "execution_count": null,
   "metadata": {},
   "outputs": [],
   "source": [
    "hosp = final_df[final_df['%_visHosp2022'] == final_df['%_visHosp2022'].max()]\n",
    "hosp"
   ]
  },
  {
   "cell_type": "code",
   "execution_count": null,
   "metadata": {},
   "outputs": [],
   "source": [
    "amb = final_df[final_df['%_visAmb2022'] == final_df['%_visAmb2022'].max()]\n",
    "amb"
   ]
  },
  {
   "cell_type": "code",
   "execution_count": null,
   "metadata": {},
   "outputs": [],
   "source": [
    "diag = final_df[final_df['%_visDiag2022'] == final_df['%_visDiag2022'].max()]\n",
    "diag"
   ]
  },
  {
   "cell_type": "code",
   "execution_count": null,
   "metadata": {},
   "outputs": [],
   "source": [
    "dent = final_df[final_df['%_visDent2022'] == final_df['%_visDent2022'].max()]\n",
    "dent"
   ]
  }
 ],
 "metadata": {
  "kernelspec": {
   "display_name": "Python 3",
   "language": "python",
   "name": "python3"
  },
  "language_info": {
   "codemirror_mode": {
    "name": "ipython",
    "version": 3
   },
   "file_extension": ".py",
   "mimetype": "text/x-python",
   "name": "python",
   "nbconvert_exporter": "python",
   "pygments_lexer": "ipython3",
   "version": "3.10.11"
  },
  "orig_nbformat": 4
 },
 "nbformat": 4,
 "nbformat_minor": 2
}
